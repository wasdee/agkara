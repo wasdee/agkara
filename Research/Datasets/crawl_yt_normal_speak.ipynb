{
 "cells": [
  {
   "cell_type": "code",
   "execution_count": null,
   "metadata": {},
   "outputs": [],
   "source": []
  },
  {
   "attachments": {},
   "cell_type": "markdown",
   "metadata": {},
   "source": [
    "# Some youtube video contains the transcript of the video. We can use this transcript to boost the vocabulary.\n",
    "\n",
    "Some videos to get stated\n",
    "1. https://www.youtube.com/watch?v=YZwFuws-h2U\n",
    "2. "
   ]
  }
 ],
 "metadata": {
  "language_info": {
   "name": "python"
  },
  "orig_nbformat": 4
 },
 "nbformat": 4,
 "nbformat_minor": 2
}
